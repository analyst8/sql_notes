{
 "cells": [
  {
   "cell_type": "markdown",
   "metadata": {},
   "source": [
    "* - includes all columns in the table\n",
    "; - put at end of statment\n",
    "!= - not equal to\n",
    "<> - not equal to\n",
    "NULL - evaluates to false but null cannot be compared to null\n",
    "BETWEEN - between\n",
    "DESC or ASC - descending or ascending\n",
    "DISTINCT - no repeats\n",
    "LIMIT 10 - limits to 10\n",
    "FETCH FIRST 10 ROWS ONLY - first 10 rows\n",
    "UPPER - uppercase\n",
    "LOWER - lowercase\n",
    "LENGTH - length\n",
    "TRIM - gets rid of outside spaces\n",
    "MAX - gives maxiumum\n",
    "MIN\n",
    "AVG\n",
    "ROUND\n",
    "COUNT"
   ]
  },
  {
   "cell_type": "markdown",
   "metadata": {},
   "source": [
    "select substring of the data starting from 1 and for 4 characters\n",
    "\n",
    "SELECT SUBSTRING('This is test data' FROM 1 FOR 4) test_data_extracted;"
   ]
  },
  {
   "cell_type": "markdown",
   "metadata": {},
   "source": [
    "replace name in a column with another name\n",
    "\n",
    "SELECT department, REPLACE(department, 'Clothing', 'Attire') modified_data;"
   ]
  },
  {
   "cell_type": "markdown",
   "metadata": {},
   "source": [
    "create a new column with full name, space, rename column\n",
    "SELECT department,\n",
    "department || 'department' AS complete_name\n",
    "FROM departments"
   ]
  },
  {
   "cell_type": "markdown",
   "metadata": {},
   "source": [
    "add something in column, email is where to add, none is what to add, name is column name\n",
    "\n",
    "SELECT COALESCE(email, 'none;) as name"
   ]
  },
  {
   "cell_type": "markdown",
   "metadata": {},
   "source": [
    "results in table with email domain name taken out (without @), and null emails taken out and order count descending\n",
    "OR if want to select certain value, use: LIKE '%furn%' or LIKE 'F%urn%'\n",
    "\n",
    "SELECT substring(email, position('@' IN email)+1) \n",
    "\tAS email_domain, count(*)\n",
    "FROM employees\n",
    "WHERE email IS NOT NULL\n",
    "GROUP BY substring(email, position('@' IN email)+1)\n",
    "ORDER BY COUNT(*) DESC;"
   ]
  },
  {
   "cell_type": "markdown",
   "metadata": {},
   "source": [
    "results in a table that finds min, max and avg salary for gender and region, \n",
    "and round avg salary and sorts ascending both gender and region_id\n",
    "\n",
    "SELECT gender, region_id, MIN(salary) min_salary, MAX(salary) max_salary, round(AVG(salary)) avg_salary\n",
    "FROM employees\n",
    "GROUP BY gender, region_id\n",
    "ORDER BY gender, region_id;"
   ]
  },
  {
   "cell_type": "markdown",
   "metadata": {},
   "source": [
    "finds the largest value in a table but lists a different column than what the largest value is in\n",
    "\n",
    "SELECT state\n",
    "FROM fruit_imports \n",
    "GROUP BY state\n",
    "ORDER BY SUM(supply) desc\n",
    "LIMIT 1;"
   ]
  },
  {
   "cell_type": "markdown",
   "metadata": {},
   "source": [
    "returns the state that has more than 1 import of the same fruit\n",
    "\n",
    "SELECT state\n",
    "FROM fruit_imports\n",
    "GROUP BY state, name\n",
    "HAVING COUNT(name) > 1;"
   ]
  },
  {
   "cell_type": "markdown",
   "metadata": {},
   "source": [
    "returns the seasons that produce either 3 fruits or 4 fruits\n",
    "\n",
    "SELECT season, COUNT(name)\n",
    "FROM fruit_imports\n",
    "GROUP BY season\n",
    "HAVING count(name) = 3 OR count(name) = 4;"
   ]
  },
  {
   "cell_type": "markdown",
   "metadata": {},
   "source": [
    "takes into consideration the  supply and cost_per_unit columns for determining the total cost and returns the most expensive state with the total cost\n",
    "\n",
    "SELECT state, SUM(supply*cost_per_unit) total_cost\n",
    "FROM fruit_imports\n",
    "GROUP BY state\n",
    "ORDER BY total_cost desc\n",
    "LIMIT 1;"
   ]
  },
  {
   "cell_type": "markdown",
   "metadata": {},
   "source": [
    "counts the number of columns and includes null values\n",
    "\n",
    "SELECT COUNT(COALESCE(fruit_name, 'SOMEVALUE'))\n",
    "FROM fruits;"
   ]
  },
  {
   "cell_type": "markdown",
   "metadata": {},
   "source": [
    "reorganize columns and this gives all the columns with first_name first\n",
    "\n",
    "SELECT first_name, * FROM employees;"
   ]
  },
  {
   "cell_type": "markdown",
   "metadata": {},
   "source": [
    "select from department table using aliases or can use entire table name\n",
    "\n",
    "SELECT d.department\n",
    "FROM employees e, departments d;"
   ]
  },
  {
   "cell_type": "markdown",
   "metadata": {},
   "source": [
    "returns all of the departments that exist in employees table and not in departments table\n",
    "\n",
    "SELECT * FROM employees\n",
    "WHERE department NOT IN (SELECT department FROM departments);"
   ]
  },
  {
   "cell_type": "markdown",
   "metadata": {},
   "source": [
    "use a query to specify where data is from rather than a table but must give name like query1\n",
    "\n",
    "SELECT *\n",
    "FROM (SELECT * FROM employees WHERE salary > 150000) query1;"
   ]
  },
  {
   "cell_type": "markdown",
   "metadata": {},
   "source": [
    "if assign names in the query (what is in brackets) then must use that name in the select statement; also shows can have multiple sources and reference which subquery (b in this case); always reference aliases\n",
    "\n",
    "SELECT b.employee_name, a.yearly_salary\n",
    "FROM (SELECT first_name employee_name, salary yearly_salary\n",
    "\tFROM employees WHERE salary > 150000) a\n",
    "\t(SELECT department employee_name FROM departments) b;"
   ]
  },
  {
   "cell_type": "markdown",
   "metadata": {},
   "source": [
    "subquery in FROM clause\n",
    "\n",
    "SELECT *\n",
    "FROM (SELECT department FROM departments) a;"
   ]
  },
  {
   "cell_type": "markdown",
   "metadata": {},
   "source": [
    "subquery in SELECT clause, need to use the 1 to limit to 1 name, \n",
    "\n",
    "SELECT first_name, last_name, salary, (SELECT first_name FROM employees limit 1)\n",
    "FROM employees;"
   ]
  },
  {
   "cell_type": "markdown",
   "metadata": {},
   "source": [
    "selects all employees from one take where they are in a certain department as determined from another table (departments)\n",
    "\n",
    "SELECT * FROM employees\n",
    "WHERE department \n",
    "\tIN (SELECT department FROM departments WHERE division = 'Electronics');"
   ]
  },
  {
   "cell_type": "markdown",
   "metadata": {},
   "source": [
    "refers to 2 tables and shows where salary over 130000 and work in certain country\n",
    "\n",
    "SELECT * FROM employees\n",
    "WHERE salary > 130000\n",
    "AND region_id IN (SELECT region_id FROM regions WHERE country = 'Canada' OR country = 'Asia');"
   ]
  },
  {
   "cell_type": "markdown",
   "metadata": {},
   "source": [
    "shows first name, department and difference of employees salary from max salary\n",
    "\n",
    "SELECT first_name, department, (SELECT MAX(salary) FROM employees) - salary \n",
    "FROM employees\n",
    "WHERE region_id IN (SELECT region_id FROM regions\n",
    "\t\t\t\t   WHERE country IN ('Asia', 'Canada'));"
   ]
  },
  {
   "cell_type": "markdown",
   "metadata": {},
   "source": [
    "need to use ANY or ALL when have multiple results from subquery\n",
    "\n",
    "SELECT * FROM employees\n",
    "WHERE region_id > ALL (SELECT region_id FROM regions WHERE country = 'United States');"
   ]
  },
  {
   "cell_type": "markdown",
   "metadata": {},
   "source": [
    "query that returns all of the employees who work in the kids division AND the dates at which those employees where hired is greater than all of the hire dates of employees who work in the manintenance department\n",
    "\n",
    "SELECT * FROM employees\n",
    "WHERE department = ANY (SELECT department \n",
    "\t\t\t        FROM departments \n",
    "\t\t\t         WHERE division = 'Kids')\n",
    "AND hire_date > ALL (SELECT hire_date\n",
    "\t\t             FROM employees \n",
    "\t\t              WHERE department = 'Maintenance');"
   ]
  },
  {
   "cell_type": "markdown",
   "metadata": {},
   "source": [
    "select only 1 name with one of numbers where multiple names\n",
    "\n",
    "SELECT min(id), name\n",
    "FROM dupes\n",
    "GROUP BY name;"
   ]
  },
  {
   "cell_type": "markdown",
   "metadata": {},
   "source": [
    "delete duplicate records\n",
    "\n",
    "DELETE FROM dupes\n",
    "WHERE id NOT IN (\n",
    "SELECT min(id)\n",
    "FROM dupes\n",
    "GROUP BY name\n",
    ");"
   ]
  },
  {
   "cell_type": "markdown",
   "metadata": {},
   "source": [
    "compute ave salary but remove max and min salary\n",
    "\n",
    "SELECT ROUND(AVG(salary))\n",
    "FROM employees\n",
    "WHERE salary NOT IN (\n",
    "(SELECT MIN(salary) FROM employees),\n",
    "(SELECT MAX(salary) FROM employees)\n",
    ");"
   ]
  },
  {
   "cell_type": "markdown",
   "metadata": {},
   "source": []
  },
  {
   "cell_type": "markdown",
   "metadata": {},
   "source": []
  },
  {
   "cell_type": "markdown",
   "metadata": {},
   "source": []
  }
 ],
 "metadata": {
  "kernelspec": {
   "display_name": "Python 3",
   "language": "python",
   "name": "python3"
  },
  "language_info": {
   "codemirror_mode": {
    "name": "ipython",
    "version": 3
   },
   "file_extension": ".py",
   "mimetype": "text/x-python",
   "name": "python",
   "nbconvert_exporter": "python",
   "pygments_lexer": "ipython3",
   "version": "3.7.4"
  }
 },
 "nbformat": 4,
 "nbformat_minor": 2
}
